{
 "cells": [
  {
   "cell_type": "code",
   "execution_count": 2,
   "id": "e9e6affe",
   "metadata": {
    "pycharm": {
     "name": "#%%\n"
    }
   },
   "outputs": [],
   "source": [
    "from PIL import Image"
   ]
  },
  {
   "cell_type": "code",
   "execution_count": 7,
   "id": "3f729196",
   "metadata": {
    "pycharm": {
     "name": "#%%\n"
    }
   },
   "outputs": [],
   "source": [
    "img1 = Image.open(\"test_tamagotchi_0003_Layer-5.png\")\n",
    "img2 = Image.open(\"test_tamagotchi_0000_Layer-7.png\")\n",
    "img3 = Image.open(\"test_tamagotchi_0001_Layer-4.png\")\n",
    "img4 = Image.open(\"test_tamagotchi_0002_Layer-6.png\")\n",
    "\n",
    "img1.paste(img2, mask=img2)\n",
    "img1.paste(img3, mask=img3)\n",
    "img1.paste(img4, mask=img4)\n",
    "img1.show()"
   ]
  },
  {
   "cell_type": "code",
   "execution_count": null,
   "id": "a0884a47",
   "metadata": {
    "pycharm": {
     "name": "#%%\n"
    }
   },
   "outputs": [],
   "source": []
  }
 ],
 "metadata": {
  "kernelspec": {
   "display_name": "Python 3 (ipykernel)",
   "language": "python",
   "name": "python3"
  },
  "language_info": {
   "codemirror_mode": {
    "name": "ipython",
    "version": 3
   },
   "file_extension": ".py",
   "mimetype": "text/x-python",
   "name": "python",
   "nbconvert_exporter": "python",
   "pygments_lexer": "ipython3",
   "version": "3.8.16"
  }
 },
 "nbformat": 4,
 "nbformat_minor": 5
}